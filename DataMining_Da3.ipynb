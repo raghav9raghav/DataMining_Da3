{
 "cells": [
  {
   "cell_type": "code",
   "execution_count": 1,
   "id": "4b258485-9924-4061-8166-b0f5c7233195",
   "metadata": {},
   "outputs": [
    {
     "name": "stdout",
     "output_type": "stream",
     "text": [
      "Collecting mlxtend\n",
      "  Downloading mlxtend-0.23.1-py3-none-any.whl.metadata (7.3 kB)\n",
      "Requirement already satisfied: scipy>=1.2.1 in c:\\users\\asus\\anaconda3\\lib\\site-packages (from mlxtend) (1.13.1)\n",
      "Requirement already satisfied: numpy>=1.16.2 in c:\\users\\asus\\anaconda3\\lib\\site-packages (from mlxtend) (1.26.4)\n",
      "Requirement already satisfied: pandas>=0.24.2 in c:\\users\\asus\\anaconda3\\lib\\site-packages (from mlxtend) (2.2.2)\n",
      "Requirement already satisfied: scikit-learn>=1.0.2 in c:\\users\\asus\\anaconda3\\lib\\site-packages (from mlxtend) (1.4.2)\n",
      "Requirement already satisfied: matplotlib>=3.0.0 in c:\\users\\asus\\anaconda3\\lib\\site-packages (from mlxtend) (3.8.4)\n",
      "Requirement already satisfied: joblib>=0.13.2 in c:\\users\\asus\\anaconda3\\lib\\site-packages (from mlxtend) (1.4.2)\n",
      "Requirement already satisfied: contourpy>=1.0.1 in c:\\users\\asus\\anaconda3\\lib\\site-packages (from matplotlib>=3.0.0->mlxtend) (1.2.0)\n",
      "Requirement already satisfied: cycler>=0.10 in c:\\users\\asus\\anaconda3\\lib\\site-packages (from matplotlib>=3.0.0->mlxtend) (0.11.0)\n",
      "Requirement already satisfied: fonttools>=4.22.0 in c:\\users\\asus\\anaconda3\\lib\\site-packages (from matplotlib>=3.0.0->mlxtend) (4.51.0)\n",
      "Requirement already satisfied: kiwisolver>=1.3.1 in c:\\users\\asus\\anaconda3\\lib\\site-packages (from matplotlib>=3.0.0->mlxtend) (1.4.4)\n",
      "Requirement already satisfied: packaging>=20.0 in c:\\users\\asus\\anaconda3\\lib\\site-packages (from matplotlib>=3.0.0->mlxtend) (23.2)\n",
      "Requirement already satisfied: pillow>=8 in c:\\users\\asus\\anaconda3\\lib\\site-packages (from matplotlib>=3.0.0->mlxtend) (10.3.0)\n",
      "Requirement already satisfied: pyparsing>=2.3.1 in c:\\users\\asus\\anaconda3\\lib\\site-packages (from matplotlib>=3.0.0->mlxtend) (3.0.9)\n",
      "Requirement already satisfied: python-dateutil>=2.7 in c:\\users\\asus\\anaconda3\\lib\\site-packages (from matplotlib>=3.0.0->mlxtend) (2.9.0.post0)\n",
      "Requirement already satisfied: pytz>=2020.1 in c:\\users\\asus\\anaconda3\\lib\\site-packages (from pandas>=0.24.2->mlxtend) (2024.1)\n",
      "Requirement already satisfied: tzdata>=2022.7 in c:\\users\\asus\\anaconda3\\lib\\site-packages (from pandas>=0.24.2->mlxtend) (2023.3)\n",
      "Requirement already satisfied: threadpoolctl>=2.0.0 in c:\\users\\asus\\anaconda3\\lib\\site-packages (from scikit-learn>=1.0.2->mlxtend) (2.2.0)\n",
      "Requirement already satisfied: six>=1.5 in c:\\users\\asus\\anaconda3\\lib\\site-packages (from python-dateutil>=2.7->matplotlib>=3.0.0->mlxtend) (1.16.0)\n",
      "Downloading mlxtend-0.23.1-py3-none-any.whl (1.4 MB)\n",
      "   ---------------------------------------- 0.0/1.4 MB ? eta -:--:--\n",
      "   ---------------------------------------- 0.0/1.4 MB ? eta -:--:--\n",
      "   ---------------------------------------- 0.0/1.4 MB ? eta -:--:--\n",
      "   ---------------------------------------- 0.0/1.4 MB ? eta -:--:--\n",
      "    --------------------------------------- 0.0/1.4 MB 325.1 kB/s eta 0:00:05\n",
      "   - -------------------------------------- 0.0/1.4 MB 279.3 kB/s eta 0:00:06\n",
      "   - -------------------------------------- 0.1/1.4 MB 328.2 kB/s eta 0:00:05\n",
      "   -- ------------------------------------- 0.1/1.4 MB 381.3 kB/s eta 0:00:04\n",
      "   --- ------------------------------------ 0.1/1.4 MB 409.6 kB/s eta 0:00:04\n",
      "   --- ------------------------------------ 0.1/1.4 MB 379.3 kB/s eta 0:00:04\n",
      "   --- ------------------------------------ 0.1/1.4 MB 405.9 kB/s eta 0:00:04\n",
      "   ---- ----------------------------------- 0.2/1.4 MB 426.7 kB/s eta 0:00:04\n",
      "   ---- ----------------------------------- 0.2/1.4 MB 419.0 kB/s eta 0:00:04\n",
      "   ----- ---------------------------------- 0.2/1.4 MB 420.8 kB/s eta 0:00:03\n",
      "   ------ --------------------------------- 0.2/1.4 MB 430.1 kB/s eta 0:00:03\n",
      "   ------ --------------------------------- 0.2/1.4 MB 443.5 kB/s eta 0:00:03\n",
      "   ------- -------------------------------- 0.3/1.4 MB 448.2 kB/s eta 0:00:03\n",
      "   ------- -------------------------------- 0.3/1.4 MB 442.4 kB/s eta 0:00:03\n",
      "   -------- ------------------------------- 0.3/1.4 MB 441.9 kB/s eta 0:00:03\n",
      "   --------- ------------------------------ 0.3/1.4 MB 445.8 kB/s eta 0:00:03\n",
      "   --------- ------------------------------ 0.4/1.4 MB 454.5 kB/s eta 0:00:03\n",
      "   ---------- ----------------------------- 0.4/1.4 MB 449.7 kB/s eta 0:00:03\n",
      "   ---------- ----------------------------- 0.4/1.4 MB 457.6 kB/s eta 0:00:03\n",
      "   ----------- ---------------------------- 0.4/1.4 MB 459.7 kB/s eta 0:00:03\n",
      "   ------------ --------------------------- 0.5/1.4 MB 462.0 kB/s eta 0:00:03\n",
      "   ------------ --------------------------- 0.5/1.4 MB 460.8 kB/s eta 0:00:03\n",
      "   ------------- -------------------------- 0.5/1.4 MB 473.7 kB/s eta 0:00:03\n",
      "   ------------- -------------------------- 0.5/1.4 MB 462.4 kB/s eta 0:00:03\n",
      "   -------------- ------------------------- 0.5/1.4 MB 464.2 kB/s eta 0:00:02\n",
      "   --------------- ------------------------ 0.6/1.4 MB 469.5 kB/s eta 0:00:02\n",
      "   ---------------- ----------------------- 0.6/1.4 MB 470.4 kB/s eta 0:00:02\n",
      "   ---------------- ----------------------- 0.6/1.4 MB 475.1 kB/s eta 0:00:02\n",
      "   ---------------- ----------------------- 0.6/1.4 MB 471.6 kB/s eta 0:00:02\n",
      "   ----------------- ---------------------- 0.6/1.4 MB 475.7 kB/s eta 0:00:02\n",
      "   ------------------ --------------------- 0.7/1.4 MB 476.6 kB/s eta 0:00:02\n",
      "   ------------------ --------------------- 0.7/1.4 MB 480.7 kB/s eta 0:00:02\n",
      "   ------------------- -------------------- 0.7/1.4 MB 481.0 kB/s eta 0:00:02\n",
      "   -------------------- ------------------- 0.7/1.4 MB 484.7 kB/s eta 0:00:02\n",
      "   -------------------- ------------------- 0.7/1.4 MB 481.6 kB/s eta 0:00:02\n",
      "   --------------------- ------------------ 0.8/1.4 MB 481.8 kB/s eta 0:00:02\n",
      "   ---------------------- ----------------- 0.8/1.4 MB 485.2 kB/s eta 0:00:02\n",
      "   ---------------------- ----------------- 0.8/1.4 MB 488.5 kB/s eta 0:00:02\n",
      "   ----------------------- ---------------- 0.8/1.4 MB 488.5 kB/s eta 0:00:02\n",
      "   ------------------------ --------------- 0.9/1.4 MB 487.1 kB/s eta 0:00:02\n",
      "   ------------------------ --------------- 0.9/1.4 MB 491.4 kB/s eta 0:00:02\n",
      "   ------------------------- -------------- 0.9/1.4 MB 484.5 kB/s eta 0:00:02\n",
      "   ------------------------- -------------- 0.9/1.4 MB 487.4 kB/s eta 0:00:02\n",
      "   -------------------------- ------------- 1.0/1.4 MB 487.6 kB/s eta 0:00:01\n",
      "   --------------------------- ------------ 1.0/1.4 MB 490.1 kB/s eta 0:00:01\n",
      "   --------------------------- ------------ 1.0/1.4 MB 487.6 kB/s eta 0:00:01\n",
      "   ---------------------------- ----------- 1.0/1.4 MB 492.8 kB/s eta 0:00:01\n",
      "   ---------------------------- ----------- 1.0/1.4 MB 490.2 kB/s eta 0:00:01\n",
      "   ----------------------------- ---------- 1.1/1.4 MB 490.3 kB/s eta 0:00:01\n",
      "   ------------------------------ --------- 1.1/1.4 MB 492.7 kB/s eta 0:00:01\n",
      "   ------------------------------ --------- 1.1/1.4 MB 494.8 kB/s eta 0:00:01\n",
      "   ------------------------------- -------- 1.1/1.4 MB 492.6 kB/s eta 0:00:01\n",
      "   ------------------------------- -------- 1.2/1.4 MB 492.6 kB/s eta 0:00:01\n",
      "   -------------------------------- ------- 1.2/1.4 MB 494.6 kB/s eta 0:00:01\n",
      "   --------------------------------- ------ 1.2/1.4 MB 496.8 kB/s eta 0:00:01\n",
      "   --------------------------------- ------ 1.2/1.4 MB 496.8 kB/s eta 0:00:01\n",
      "   ---------------------------------- ----- 1.2/1.4 MB 494.5 kB/s eta 0:00:01\n",
      "   ----------------------------------- ---- 1.3/1.4 MB 494.5 kB/s eta 0:00:01\n",
      "   ----------------------------------- ---- 1.3/1.4 MB 496.5 kB/s eta 0:00:01\n",
      "   ------------------------------------ --- 1.3/1.4 MB 498.3 kB/s eta 0:00:01\n",
      "   ------------------------------------- -- 1.3/1.4 MB 498.2 kB/s eta 0:00:01\n",
      "   ------------------------------------- -- 1.4/1.4 MB 500.1 kB/s eta 0:00:01\n",
      "   -------------------------------------- - 1.4/1.4 MB 499.8 kB/s eta 0:00:01\n",
      "   -------------------------------------- - 1.4/1.4 MB 497.9 kB/s eta 0:00:01\n",
      "   ---------------------------------------  1.4/1.4 MB 499.7 kB/s eta 0:00:01\n",
      "   ---------------------------------------- 1.4/1.4 MB 497.9 kB/s eta 0:00:00\n",
      "Installing collected packages: mlxtend\n",
      "Successfully installed mlxtend-0.23.1\n"
     ]
    }
   ],
   "source": [
    "!pip install mlxtend\n"
   ]
  },
  {
   "cell_type": "code",
   "execution_count": 3,
   "id": "419557ef-49bf-488e-9455-43eab506d533",
   "metadata": {},
   "outputs": [],
   "source": [
    "import pandas as pd \n",
    "from mlxtend.frequent_patterns import apriori, association_rules"
   ]
  },
  {
   "cell_type": "code",
   "execution_count": 5,
   "id": "65d2de6b-d29c-42ff-a174-033c7587e24d",
   "metadata": {},
   "outputs": [],
   "source": [
    "dataset = {\n",
    "     'TID': ['T1', 'T2', 'T3', 'T4', 'T5', 'T6', 'T7', 'T8', 'T9'],\n",
    "     'items': [\n",
    "         ['I1', 'I2', 'I5'],\n",
    "         ['I2', 'I4'],\n",
    "         ['I2', 'I3'],\n",
    "         ['I1', 'I2', 'I4'],\n",
    "         ['I1', 'I3'],\n",
    "         ['I2', 'I3'],\n",
    "         ['I1', 'I3'],\n",
    "         ['I1', 'I2', 'I3', 'I5'],\n",
    "         ['I1', 'I2', 'I3']\n",
    "     ]\n",
    "}"
   ]
  },
  {
   "cell_type": "code",
   "execution_count": 7,
   "id": "6a66548d-4280-4441-801f-2ee828b00a82",
   "metadata": {},
   "outputs": [],
   "source": [
    "df = pd.DataFrame(dataset) \n",
    "df_items = df['items'].str.join('|').str.get_dummies()"
   ]
  },
  {
   "cell_type": "code",
   "execution_count": 9,
   "id": "873f5a36-6e04-4793-b1b6-5eeae8308be3",
   "metadata": {},
   "outputs": [
    {
     "name": "stderr",
     "output_type": "stream",
     "text": [
      "C:\\Users\\ASUS\\anaconda3\\Lib\\site-packages\\mlxtend\\frequent_patterns\\fpcommon.py:109: DeprecationWarning: DataFrames with non-bool types result in worse computationalperformance and their support might be discontinued in the future.Please use a DataFrame with bool type\n",
      "  warnings.warn(\n"
     ]
    }
   ],
   "source": [
    "min_support = 2 / len(df) \n",
    "frequent_itemsets = apriori(df_items, min_support=min_support, use_colnames=True)"
   ]
  },
  {
   "cell_type": "code",
   "execution_count": 11,
   "id": "db8812b9-5f0a-40ec-878a-fa541eefa00f",
   "metadata": {},
   "outputs": [
    {
     "name": "stdout",
     "output_type": "stream",
     "text": [
      "Frequent Itemsets:\n",
      "     support      itemsets\n",
      "0   0.666667          (I1)\n",
      "1   0.777778          (I2)\n",
      "2   0.666667          (I3)\n",
      "3   0.222222          (I4)\n",
      "4   0.222222          (I5)\n",
      "5   0.444444      (I2, I1)\n",
      "6   0.444444      (I3, I1)\n",
      "7   0.222222      (I1, I5)\n",
      "8   0.444444      (I2, I3)\n",
      "9   0.222222      (I2, I4)\n",
      "10  0.222222      (I2, I5)\n",
      "11  0.222222  (I2, I1, I3)\n",
      "12  0.222222  (I2, I1, I5)\n"
     ]
    }
   ],
   "source": [
    "print(\"Frequent Itemsets:\") \n",
    "print(frequent_itemsets)"
   ]
  },
  {
   "cell_type": "code",
   "execution_count": 13,
   "id": "85dc43b2-03a2-4c09-8f47-42ad5afee25d",
   "metadata": {},
   "outputs": [],
   "source": [
    "rules = association_rules(frequent_itemsets, metric=\"confidence\", min_threshold=0.6)"
   ]
  },
  {
   "cell_type": "code",
   "execution_count": 15,
   "id": "faeec00c-b02a-4022-a458-3489004933d1",
   "metadata": {},
   "outputs": [
    {
     "name": "stdout",
     "output_type": "stream",
     "text": [
      "\n",
      "Association Rules:\n",
      "  antecedents consequents   support  confidence      lift\n",
      "0        (I1)        (I2)  0.444444    0.666667  0.857143\n",
      "1        (I3)        (I1)  0.444444    0.666667  1.000000\n",
      "2        (I1)        (I3)  0.444444    0.666667  1.000000\n",
      "3        (I5)        (I1)  0.222222    1.000000  1.500000\n",
      "4        (I3)        (I2)  0.444444    0.666667  0.857143\n",
      "5        (I4)        (I2)  0.222222    1.000000  1.285714\n",
      "6        (I5)        (I2)  0.222222    1.000000  1.285714\n",
      "7    (I2, I5)        (I1)  0.222222    1.000000  1.500000\n",
      "8    (I1, I5)        (I2)  0.222222    1.000000  1.285714\n",
      "9        (I5)    (I2, I1)  0.222222    1.000000  2.250000\n"
     ]
    }
   ],
   "source": [
    "print(\"\\nAssociation Rules:\") \n",
    "print(rules[['antecedents', 'consequents', 'support', 'confidence', 'lift']])"
   ]
  },
  {
   "cell_type": "code",
   "execution_count": null,
   "id": "f9cc36cb-3add-4dff-a6c3-23c1d98e7883",
   "metadata": {},
   "outputs": [],
   "source": []
  }
 ],
 "metadata": {
  "kernelspec": {
   "display_name": "Python 3 (ipykernel)",
   "language": "python",
   "name": "python3"
  },
  "language_info": {
   "codemirror_mode": {
    "name": "ipython",
    "version": 3
   },
   "file_extension": ".py",
   "mimetype": "text/x-python",
   "name": "python",
   "nbconvert_exporter": "python",
   "pygments_lexer": "ipython3",
   "version": "3.12.4"
  }
 },
 "nbformat": 4,
 "nbformat_minor": 5
}
